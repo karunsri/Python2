{
 "cells": [
  {
   "cell_type": "code",
   "execution_count": 72,
   "id": "eb58b72a",
   "metadata": {},
   "outputs": [
    {
     "data": {
      "text/plain": [
       "['naina', 'karuna', 'shanu', 'suman']"
      ]
     },
     "execution_count": 72,
     "metadata": {},
     "output_type": "execute_result"
    }
   ],
   "source": [
    "Students_name1 =['naina','karuna','shanu','suman']\n",
    "Students_name1"
   ]
  },
  {
   "cell_type": "code",
   "execution_count": 73,
   "id": "68e79a4e",
   "metadata": {},
   "outputs": [
    {
     "ename": "TypeError",
     "evalue": "'tuple' object does not support item assignment",
     "output_type": "error",
     "traceback": [
      "\u001b[1;31m---------------------------------------------------------------------------\u001b[0m",
      "\u001b[1;31mTypeError\u001b[0m                                 Traceback (most recent call last)",
      "Input \u001b[1;32mIn [73]\u001b[0m, in \u001b[0;36m<cell line: 1>\u001b[1;34m()\u001b[0m\n\u001b[1;32m----> 1\u001b[0m students_name[\u001b[38;5;241m1\u001b[39m] \u001b[38;5;241m=\u001b[39m\u001b[38;5;124m\"\u001b[39m\u001b[38;5;124mkaru\u001b[39m\u001b[38;5;124m\"\u001b[39m\n\u001b[0;32m      2\u001b[0m students_name\n",
      "\u001b[1;31mTypeError\u001b[0m: 'tuple' object does not support item assignment"
     ]
    }
   ],
   "source": [
    "students_name[1] =\"karu\"\n",
    "students_name"
   ]
  },
  {
   "cell_type": "code",
   "execution_count": 74,
   "id": "f85e8f30",
   "metadata": {},
   "outputs": [
    {
     "ename": "NameError",
     "evalue": "name 'students_name1' is not defined",
     "output_type": "error",
     "traceback": [
      "\u001b[1;31m---------------------------------------------------------------------------\u001b[0m",
      "\u001b[1;31mNameError\u001b[0m                                 Traceback (most recent call last)",
      "Input \u001b[1;32mIn [74]\u001b[0m, in \u001b[0;36m<cell line: 1>\u001b[1;34m()\u001b[0m\n\u001b[1;32m----> 1\u001b[0m \u001b[43mstudents_name1\u001b[49m[\u001b[38;5;241m1\u001b[39m] \u001b[38;5;241m=\u001b[39m\u001b[38;5;124m\"\u001b[39m\u001b[38;5;124mkaru\u001b[39m\u001b[38;5;124m\"\u001b[39m\n\u001b[0;32m      2\u001b[0m students_name1\n",
      "\u001b[1;31mNameError\u001b[0m: name 'students_name1' is not defined"
     ]
    }
   ],
   "source": [
    "students_name1[1] =\"karu\"\n",
    "students_name1"
   ]
  },
  {
   "cell_type": "code",
   "execution_count": 75,
   "id": "97ade69c",
   "metadata": {},
   "outputs": [
    {
     "ename": "TypeError",
     "evalue": "'tuple' object does not support item assignment",
     "output_type": "error",
     "traceback": [
      "\u001b[1;31m---------------------------------------------------------------------------\u001b[0m",
      "\u001b[1;31mTypeError\u001b[0m                                 Traceback (most recent call last)",
      "Input \u001b[1;32mIn [75]\u001b[0m, in \u001b[0;36m<cell line: 1>\u001b[1;34m()\u001b[0m\n\u001b[1;32m----> 1\u001b[0m students_name[\u001b[38;5;241m1\u001b[39m] \u001b[38;5;241m=\u001b[39m\u001b[38;5;124m\"\u001b[39m\u001b[38;5;124mkaru\u001b[39m\u001b[38;5;124m\"\u001b[39m\n\u001b[0;32m      2\u001b[0m students_name\n",
      "\u001b[1;31mTypeError\u001b[0m: 'tuple' object does not support item assignment"
     ]
    }
   ],
   "source": [
    "students_name[1] =\"karu\"\n",
    "students_name"
   ]
  },
  {
   "cell_type": "code",
   "execution_count": 76,
   "id": "8a143f91",
   "metadata": {},
   "outputs": [
    {
     "ename": "TypeError",
     "evalue": "'tuple' object does not support item assignment",
     "output_type": "error",
     "traceback": [
      "\u001b[1;31m---------------------------------------------------------------------------\u001b[0m",
      "\u001b[1;31mTypeError\u001b[0m                                 Traceback (most recent call last)",
      "Input \u001b[1;32mIn [76]\u001b[0m, in \u001b[0;36m<cell line: 1>\u001b[1;34m()\u001b[0m\n\u001b[1;32m----> 1\u001b[0m students_name[\u001b[38;5;241m1\u001b[39m]\u001b[38;5;241m=\u001b[39m\u001b[38;5;124m\"\u001b[39m\u001b[38;5;124mkaru\u001b[39m\u001b[38;5;124m\"\u001b[39m\n\u001b[0;32m      2\u001b[0m students_name\n",
      "\u001b[1;31mTypeError\u001b[0m: 'tuple' object does not support item assignment"
     ]
    }
   ],
   "source": [
    "students_name[1]=\"karu\"\n",
    "students_name"
   ]
  },
  {
   "cell_type": "code",
   "execution_count": 77,
   "id": "452e7d5d",
   "metadata": {},
   "outputs": [
    {
     "ename": "SyntaxError",
     "evalue": "cannot assign to function call here. Maybe you meant '==' instead of '='? (992262321.py, line 1)",
     "output_type": "error",
     "traceback": [
      "\u001b[1;36m  Input \u001b[1;32mIn [77]\u001b[1;36m\u001b[0m\n\u001b[1;33m    students_name(1)=\"karu\"\u001b[0m\n\u001b[1;37m    ^\u001b[0m\n\u001b[1;31mSyntaxError\u001b[0m\u001b[1;31m:\u001b[0m cannot assign to function call here. Maybe you meant '==' instead of '='?\n"
     ]
    }
   ],
   "source": [
    "students_name(1)=\"karu\"\n",
    "students_name"
   ]
  },
  {
   "cell_type": "code",
   "execution_count": 78,
   "id": "3e07532b",
   "metadata": {},
   "outputs": [
    {
     "data": {
      "text/plain": [
       "[12, 4.2, 'Hi', (1-2j)]"
      ]
     },
     "execution_count": 78,
     "metadata": {},
     "output_type": "execute_result"
    }
   ],
   "source": [
    "student_list =[12,4.2,\"Hi\",1-2j]\n",
    "student_list"
   ]
  },
  {
   "cell_type": "code",
   "execution_count": null,
   "id": "0ff1a3c5",
   "metadata": {},
   "outputs": [],
   "source": []
  },
  {
   "cell_type": "code",
   "execution_count": null,
   "id": "6abf63d1",
   "metadata": {},
   "outputs": [],
   "source": []
  },
  {
   "cell_type": "code",
   "execution_count": 79,
   "id": "043b6444",
   "metadata": {
    "scrolled": true
   },
   "outputs": [
    {
     "data": {
      "text/plain": [
       "[12, 4.2, 'Hello', (1-2j)]"
      ]
     },
     "execution_count": 79,
     "metadata": {},
     "output_type": "execute_result"
    }
   ],
   "source": [
    "student_list[2]=\"Hello\"\n",
    "student_list"
   ]
  },
  {
   "cell_type": "code",
   "execution_count": 82,
   "id": "66eb0b5d",
   "metadata": {},
   "outputs": [],
   "source": [
    "import numpy as np"
   ]
  },
  {
   "cell_type": "code",
   "execution_count": 88,
   "id": "7e75ad4e",
   "metadata": {},
   "outputs": [],
   "source": [
    "simple_list=[6,7,9]\n",
    "np.array(simple_list)"
   ]
  },
  {
   "cell_type": "code",
   "execution_count": 90,
   "id": "85cedf31",
   "metadata": {},
   "outputs": [],
   "source": [
    "simple_list[2]=\"Hello\""
   ]
  },
  {
   "cell_type": "code",
   "execution_count": 91,
   "id": "523ee4cd",
   "metadata": {},
   "outputs": [
    {
     "data": {
      "text/plain": [
       "[6, 7, 'Hello']"
      ]
     },
     "execution_count": 91,
     "metadata": {},
     "output_type": "execute_result"
    }
   ],
   "source": [
    "simple_list"
   ]
  },
  {
   "cell_type": "code",
   "execution_count": 92,
   "id": "b44a026b",
   "metadata": {},
   "outputs": [],
   "source": [
    "import array"
   ]
  },
  {
   "cell_type": "code",
   "execution_count": 97,
   "id": "5b64e68e",
   "metadata": {},
   "outputs": [
    {
     "data": {
      "text/plain": [
       "array('i', [6, 7])"
      ]
     },
     "execution_count": 97,
     "metadata": {},
     "output_type": "execute_result"
    }
   ],
   "source": [
    "array.array('i',[6,7])"
   ]
  },
  {
   "cell_type": "code",
   "execution_count": 98,
   "id": "d2da7ada",
   "metadata": {},
   "outputs": [
    {
     "data": {
      "text/plain": [
       "[12, 4.2, 'Hi', (1-2j)]"
      ]
     },
     "execution_count": 98,
     "metadata": {},
     "output_type": "execute_result"
    }
   ],
   "source": [
    "student_list =[12,4.2,\"Hi\",1-2j]\n",
    "student_list"
   ]
  },
  {
   "cell_type": "code",
   "execution_count": 99,
   "id": "f98d6070",
   "metadata": {},
   "outputs": [
    {
     "data": {
      "text/plain": [
       "'Hi'"
      ]
     },
     "execution_count": 99,
     "metadata": {},
     "output_type": "execute_result"
    }
   ],
   "source": [
    "student_list[2]"
   ]
  },
  {
   "cell_type": "code",
   "execution_count": 101,
   "id": "b8a85b72",
   "metadata": {},
   "outputs": [
    {
     "data": {
      "text/plain": [
       "[12, 4.2, 'Hi', 23]"
      ]
     },
     "execution_count": 101,
     "metadata": {},
     "output_type": "execute_result"
    }
   ],
   "source": [
    "student_list[3]=23\n",
    "student_list"
   ]
  },
  {
   "cell_type": "code",
   "execution_count": 108,
   "id": "70d311f9",
   "metadata": {},
   "outputs": [
    {
     "data": {
      "text/plain": [
       "[4.2, 'Hi', 23]"
      ]
     },
     "execution_count": 108,
     "metadata": {},
     "output_type": "execute_result"
    }
   ],
   "source": [
    "student_list[1:4]"
   ]
  },
  {
   "cell_type": "code",
   "execution_count": 123,
   "id": "180edb41",
   "metadata": {},
   "outputs": [],
   "source": [
    "list=[\"x\",\"y\",\"z\",\"s\"]"
   ]
  },
  {
   "cell_type": "code",
   "execution_count": 110,
   "id": "2a2a685c",
   "metadata": {},
   "outputs": [
    {
     "data": {
      "text/plain": [
       "3"
      ]
     },
     "execution_count": 110,
     "metadata": {},
     "output_type": "execute_result"
    }
   ],
   "source": [
    "len(list)"
   ]
  },
  {
   "cell_type": "code",
   "execution_count": 111,
   "id": "97a59dcf",
   "metadata": {},
   "outputs": [
    {
     "data": {
      "text/plain": [
       "['y', 'z']"
      ]
     },
     "execution_count": 111,
     "metadata": {},
     "output_type": "execute_result"
    }
   ],
   "source": [
    "list[1:3]"
   ]
  },
  {
   "cell_type": "code",
   "execution_count": 120,
   "id": "288704ee",
   "metadata": {},
   "outputs": [
    {
     "data": {
      "text/plain": [
       "['x', 'y']"
      ]
     },
     "execution_count": 120,
     "metadata": {},
     "output_type": "execute_result"
    }
   ],
   "source": [
    "list[-4:-2]"
   ]
  },
  {
   "cell_type": "code",
   "execution_count": 128,
   "id": "b48a9ca1",
   "metadata": {},
   "outputs": [
    {
     "ename": "SyntaxError",
     "evalue": "invalid syntax. Perhaps you forgot a comma? (2363346201.py, line 1)",
     "output_type": "error",
     "traceback": [
      "\u001b[1;36m  Input \u001b[1;32mIn [128]\u001b[1;36m\u001b[0m\n\u001b[1;33m    fruit=[\"Apple,\"mango\",\"grapes\",\"guawa\"]\u001b[0m\n\u001b[1;37m           ^\u001b[0m\n\u001b[1;31mSyntaxError\u001b[0m\u001b[1;31m:\u001b[0m invalid syntax. Perhaps you forgot a comma?\n"
     ]
    }
   ],
   "source": [
    "fruit=[\"Apple,\"mango\",\"grapes\",\"guawa\"]\n",
    "fruit.append(\"mango\")\n"
   ]
  },
  {
   "cell_type": "code",
   "execution_count": 140,
   "id": "e0ae42fa",
   "metadata": {},
   "outputs": [],
   "source": [
    "fruit=[\"Apple\"]\n",
    "fruit.append(\"Mango\")"
   ]
  },
  {
   "cell_type": "code",
   "execution_count": 141,
   "id": "95ea98de",
   "metadata": {},
   "outputs": [],
   "source": [
    "import array\n",
    "import numpy as np"
   ]
  },
  {
   "cell_type": "code",
   "execution_count": 296,
   "id": "b61a8662",
   "metadata": {},
   "outputs": [
    {
     "ename": "ValueError",
     "evalue": "bad typecode (must be b, B, u, h, H, i, I, l, L, q, Q, f or d)",
     "output_type": "error",
     "traceback": [
      "\u001b[1;31m---------------------------------------------------------------------------\u001b[0m",
      "\u001b[1;31mValueError\u001b[0m                                Traceback (most recent call last)",
      "Input \u001b[1;32mIn [296]\u001b[0m, in \u001b[0;36m<cell line: 1>\u001b[1;34m()\u001b[0m\n\u001b[1;32m----> 1\u001b[0m shanu_array12 \u001b[38;5;241m=\u001b[39m \u001b[43marray\u001b[49m\u001b[38;5;241;43m.\u001b[39;49m\u001b[43marray\u001b[49m\u001b[43m(\u001b[49m\u001b[38;5;124;43m'\u001b[39;49m\u001b[38;5;124;43mj\u001b[39;49m\u001b[38;5;124;43m'\u001b[39;49m\u001b[43m,\u001b[49m\u001b[43m[\u001b[49m\u001b[38;5;241;43m1\u001b[39;49m\u001b[43m,\u001b[49m\u001b[38;5;241;43m12\u001b[39;49m\u001b[43mj\u001b[49m\u001b[43m,\u001b[49m\u001b[38;5;241;43m30\u001b[39;49m\u001b[43m,\u001b[49m\u001b[38;5;241;43m49\u001b[39;49m\u001b[43m,\u001b[49m\u001b[38;5;241;43m59\u001b[39;49m\u001b[43m]\u001b[49m\u001b[43m)\u001b[49m\n\u001b[0;32m      2\u001b[0m \u001b[38;5;28mprint\u001b[39m(shanu_array12)\n\u001b[0;32m      4\u001b[0m shan_array_new \u001b[38;5;241m=\u001b[39m shanu_array12[:\u001b[38;5;241m2\u001b[39m] \u001b[38;5;241m+\u001b[39m array\u001b[38;5;241m.\u001b[39marray(\u001b[38;5;124m'\u001b[39m\u001b[38;5;124mj\u001b[39m\u001b[38;5;124m'\u001b[39m,[\u001b[38;5;241m12\u001b[39mj]) \u001b[38;5;241m+\u001b[39m shanu_array12[\u001b[38;5;241m2\u001b[39m:]\n",
      "\u001b[1;31mValueError\u001b[0m: bad typecode (must be b, B, u, h, H, i, I, l, L, q, Q, f or d)"
     ]
    }
   ],
   "source": [
    "shanu_array12 = array.array('j',[1,12j,30,49,59])\n",
    "print(shanu_array12)\n",
    "\n",
    "shan_array_new = shanu_array12[:2] + array.array('j',[12j]) + shanu_array12[2:]\n",
    "print(shan_array_new)"
   ]
  },
  {
   "cell_type": "code",
   "execution_count": 166,
   "id": "5cc95b3c",
   "metadata": {},
   "outputs": [
    {
     "name": "stdout",
     "output_type": "stream",
     "text": [
      "array('i', [1, 10, 12, 30, 35, 49, 59])\n"
     ]
    }
   ],
   "source": [
    " shan_array_new2 = shan_array_new[:4] + array.array('i',[35]) + shan_array_new[4:len(shan_array_new)]\n",
    " print(shan_array_new2)"
   ]
  },
  {
   "cell_type": "code",
   "execution_count": 181,
   "id": "d0748327",
   "metadata": {},
   "outputs": [
    {
     "name": "stdout",
     "output_type": "stream",
     "text": [
      "array('i', [65, 65])\n"
     ]
    }
   ],
   "source": [
    "shan_array_new2.append(65)\n",
    "print(shan_array_new2)\n",
    "\n"
   ]
  },
  {
   "cell_type": "code",
   "execution_count": 188,
   "id": "b369b87f",
   "metadata": {},
   "outputs": [
    {
     "name": "stdout",
     "output_type": "stream",
     "text": [
      "array('i', [65, 3, 5, 10])\n"
     ]
    }
   ],
   "source": [
    "shan_array_new2.append(10)\n",
    "print(shan_array_new2)\n"
   ]
  },
  {
   "cell_type": "code",
   "execution_count": 202,
   "id": "0c7cc7c8",
   "metadata": {},
   "outputs": [],
   "source": [
    "import numpy as nm"
   ]
  },
  {
   "cell_type": "code",
   "execution_count": 211,
   "id": "c51d97be",
   "metadata": {},
   "outputs": [
    {
     "ename": "NameError",
     "evalue": "name 'sham_arry' is not defined",
     "output_type": "error",
     "traceback": [
      "\u001b[1;31m---------------------------------------------------------------------------\u001b[0m",
      "\u001b[1;31mNameError\u001b[0m                                 Traceback (most recent call last)",
      "Input \u001b[1;32mIn [211]\u001b[0m, in \u001b[0;36m<cell line: 2>\u001b[1;34m()\u001b[0m\n\u001b[0;32m      1\u001b[0m sham_array \u001b[38;5;241m=\u001b[39m array\u001b[38;5;241m.\u001b[39marray(\u001b[38;5;124m'\u001b[39m\u001b[38;5;124mi\u001b[39m\u001b[38;5;124m'\u001b[39m,[\u001b[38;5;241m1\u001b[39m,\u001b[38;5;241m10\u001b[39m,\u001b[38;5;241m30\u001b[39m,\u001b[38;5;241m49\u001b[39m,\u001b[38;5;241m59\u001b[39m])\n\u001b[1;32m----> 2\u001b[0m \u001b[38;5;28mprint\u001b[39m(\u001b[43msham_arry\u001b[49m)\n",
      "\u001b[1;31mNameError\u001b[0m: name 'sham_arry' is not defined"
     ]
    }
   ],
   "source": [
    "sham_array = array.array('i',[1,10,30,49,59])\n",
    "print(sham_arry)"
   ]
  },
  {
   "cell_type": "code",
   "execution_count": 212,
   "id": "b48f22cb",
   "metadata": {},
   "outputs": [],
   "source": [
    "import numpy as nm"
   ]
  },
  {
   "cell_type": "code",
   "execution_count": 214,
   "id": "832c0c8b",
   "metadata": {},
   "outputs": [
    {
     "data": {
      "text/plain": [
       "array([6, 7, 9])"
      ]
     },
     "execution_count": 214,
     "metadata": {},
     "output_type": "execute_result"
    }
   ],
   "source": [
    "simple_list=[6,7,9]\n",
    "nm.array(simple_list)"
   ]
  },
  {
   "cell_type": "code",
   "execution_count": 272,
   "id": "e1816419",
   "metadata": {},
   "outputs": [
    {
     "data": {
      "text/plain": [
       "array([[1, 2, 3],\n",
       "       [4, 5, 6]])"
      ]
     },
     "execution_count": 272,
     "metadata": {},
     "output_type": "execute_result"
    }
   ],
   "source": [
    "list_of_array=[1,2,3],[4,5,6]\n",
    "nm.array(list_of_array)"
   ]
  },
  {
   "cell_type": "code",
   "execution_count": 271,
   "id": "32178744",
   "metadata": {},
   "outputs": [
    {
     "ename": "TypeError",
     "evalue": "Cannot interpret '49' as a data type",
     "output_type": "error",
     "traceback": [
      "\u001b[1;31m---------------------------------------------------------------------------\u001b[0m",
      "\u001b[1;31mTypeError\u001b[0m                                 Traceback (most recent call last)",
      "Input \u001b[1;32mIn [271]\u001b[0m, in \u001b[0;36m<cell line: 1>\u001b[1;34m()\u001b[0m\n\u001b[1;32m----> 1\u001b[0m \u001b[43mnm\u001b[49m\u001b[38;5;241;43m.\u001b[39;49m\u001b[43marray\u001b[49m\u001b[43m(\u001b[49m\u001b[38;5;241;43m1\u001b[39;49m\u001b[43m,\u001b[49m\u001b[38;5;241;43m49\u001b[39;49m\u001b[43m)\u001b[49m\n",
      "\u001b[1;31mTypeError\u001b[0m: Cannot interpret '49' as a data type"
     ]
    }
   ],
   "source": [
    "nm.array(1,49)"
   ]
  },
  {
   "cell_type": "code",
   "execution_count": 217,
   "id": "4c3fb0d6",
   "metadata": {},
   "outputs": [],
   "source": [
    "list=[1,2,3,4,5,6]"
   ]
  },
  {
   "cell_type": "code",
   "execution_count": 218,
   "id": "2081458e",
   "metadata": {},
   "outputs": [
    {
     "data": {
      "text/plain": [
       "6"
      ]
     },
     "execution_count": 218,
     "metadata": {},
     "output_type": "execute_result"
    }
   ],
   "source": [
    "len(list)"
   ]
  },
  {
   "cell_type": "code",
   "execution_count": 229,
   "id": "63339f79",
   "metadata": {},
   "outputs": [
    {
     "data": {
      "text/plain": [
       "[4]"
      ]
     },
     "execution_count": 229,
     "metadata": {},
     "output_type": "execute_result"
    }
   ],
   "source": [
    "list[3:4]"
   ]
  },
  {
   "cell_type": "code",
   "execution_count": 247,
   "id": "9154f9a7",
   "metadata": {},
   "outputs": [
    {
     "name": "stdout",
     "output_type": "stream",
     "text": [
      "['Apple', 'Orange', 'Guawa', 'Tea', 'Mango']\n"
     ]
    }
   ],
   "source": [
    "fruit=[\"Apple\",\"Orange\",\"Guawa\",\"Tea\"]\n",
    "fruit.append(\"Mango\")\n",
    "print(fruit)"
   ]
  },
  {
   "cell_type": "code",
   "execution_count": 248,
   "id": "27aa430d",
   "metadata": {},
   "outputs": [
    {
     "name": "stdout",
     "output_type": "stream",
     "text": [
      "['Apple', 'Orange', 'Guawa', 'Mango']\n"
     ]
    }
   ],
   "source": [
    "fruit.pop(3)\n",
    "print(fruit)"
   ]
  },
  {
   "cell_type": "code",
   "execution_count": 249,
   "id": "45de8065",
   "metadata": {},
   "outputs": [
    {
     "name": "stdout",
     "output_type": "stream",
     "text": [
      "['Apple', 'Orange', 'Guawa', 'Banana', 'Mango']\n"
     ]
    }
   ],
   "source": [
    "fruit.insert(3,\"Banana\")\n",
    "print(fruit)"
   ]
  },
  {
   "cell_type": "code",
   "execution_count": 250,
   "id": "f3547fbd",
   "metadata": {},
   "outputs": [
    {
     "data": {
      "text/plain": [
       "5"
      ]
     },
     "execution_count": 250,
     "metadata": {},
     "output_type": "execute_result"
    }
   ],
   "source": [
    "len(fruit)"
   ]
  },
  {
   "cell_type": "code",
   "execution_count": 251,
   "id": "ec2b0415",
   "metadata": {},
   "outputs": [
    {
     "data": {
      "text/plain": [
       "4"
      ]
     },
     "execution_count": 251,
     "metadata": {},
     "output_type": "execute_result"
    }
   ],
   "source": [
    "fruit.index(\"Mango\")"
   ]
  },
  {
   "cell_type": "code",
   "execution_count": 257,
   "id": "b48836c9",
   "metadata": {},
   "outputs": [
    {
     "name": "stdout",
     "output_type": "stream",
     "text": [
      "['Apple', 'Banana', 'Guawa']\n"
     ]
    }
   ],
   "source": [
    "fruit.sort()\n",
    "print(fruit)"
   ]
  },
  {
   "cell_type": "code",
   "execution_count": 258,
   "id": "b2d59a4b",
   "metadata": {},
   "outputs": [
    {
     "name": "stdout",
     "output_type": "stream",
     "text": [
      "['Apple', 'Banana']\n"
     ]
    }
   ],
   "source": [
    "fruit.pop(-1)\n",
    "print(fruit)"
   ]
  },
  {
   "cell_type": "code",
   "execution_count": 259,
   "id": "739c50c5",
   "metadata": {},
   "outputs": [
    {
     "data": {
      "text/plain": [
       "[6, 10, 9]"
      ]
     },
     "execution_count": 259,
     "metadata": {},
     "output_type": "execute_result"
    }
   ],
   "source": [
    "simple_list[1] = 10 \n",
    "simple_list"
   ]
  },
  {
   "cell_type": "code",
   "execution_count": 260,
   "id": "42997b6f",
   "metadata": {},
   "outputs": [
    {
     "data": {
      "text/plain": [
       "[9, 10, 6]"
      ]
     },
     "execution_count": 260,
     "metadata": {},
     "output_type": "execute_result"
    }
   ],
   "source": [
    "simple_list.reverse()\n",
    "simple_list"
   ]
  },
  {
   "cell_type": "markdown",
   "id": "5ab5ca0b",
   "metadata": {},
   "source": [
    "### hjhguiteyi"
   ]
  },
  {
   "cell_type": "markdown",
   "id": "ef935854",
   "metadata": {},
   "source": [
    "# hggfgugk"
   ]
  },
  {
   "cell_type": "markdown",
   "id": "8b4b425e",
   "metadata": {},
   "source": [
    "### fjurtfhg"
   ]
  },
  {
   "cell_type": "code",
   "execution_count": null,
   "id": "9bed29bc",
   "metadata": {},
   "outputs": [],
   "source": []
  },
  {
   "cell_type": "code",
   "execution_count": 62,
   "id": "f70a0fa4",
   "metadata": {},
   "outputs": [
    {
     "ename": "SyntaxError",
     "evalue": "cannot assign to function call here. Maybe you meant '==' instead of '='? (879104949.py, line 1)",
     "output_type": "error",
     "traceback": [
      "\u001b[1;36m  Input \u001b[1;32mIn [62]\u001b[1;36m\u001b[0m\n\u001b[1;33m    students_name(1) =\"nainu\"\u001b[0m\n\u001b[1;37m    ^\u001b[0m\n\u001b[1;31mSyntaxError\u001b[0m\u001b[1;31m:\u001b[0m cannot assign to function call here. Maybe you meant '==' instead of '='?\n"
     ]
    }
   ],
   "source": [
    "students_name(1) =\"nainu\"\n",
    "students_name"
   ]
  },
  {
   "cell_type": "code",
   "execution_count": 9,
   "id": "16756691",
   "metadata": {},
   "outputs": [
    {
     "data": {
      "text/plain": [
       "('naina', 'karuna', 'shanusuman')"
      ]
     },
     "execution_count": 9,
     "metadata": {},
     "output_type": "execute_result"
    }
   ],
   "source": [
    "Students_name = ('naina','karuna','shanu''suman')\n",
    "Students_name"
   ]
  },
  {
   "cell_type": "code",
   "execution_count": 10,
   "id": "e3c6d042",
   "metadata": {},
   "outputs": [
    {
     "data": {
      "text/plain": [
       "complex"
      ]
     },
     "execution_count": 10,
     "metadata": {},
     "output_type": "execute_result"
    }
   ],
   "source": [
    "x = 1+2j\n",
    "type(x)"
   ]
  },
  {
   "cell_type": "code",
   "execution_count": 13,
   "id": "9092d97e",
   "metadata": {},
   "outputs": [
    {
     "data": {
      "text/plain": [
       "'hi'"
      ]
     },
     "execution_count": 13,
     "metadata": {},
     "output_type": "execute_result"
    }
   ],
   "source": [
    "sample_list[2\n",
    "        ]"
   ]
  },
  {
   "cell_type": "code",
   "execution_count": 18,
   "id": "8a986f60",
   "metadata": {},
   "outputs": [
    {
     "data": {
      "text/plain": [
       "[12, 4.3, 'hi', 23]"
      ]
     },
     "execution_count": 18,
     "metadata": {},
     "output_type": "execute_result"
    }
   ],
   "source": [
    "sample_list = [ 12,4.3,\"hi\",23]\n",
    "sample_list"
   ]
  },
  {
   "cell_type": "code",
   "execution_count": 26,
   "id": "ab5f00f3",
   "metadata": {},
   "outputs": [
    {
     "data": {
      "text/plain": [
       "'hellow'"
      ]
     },
     "execution_count": 26,
     "metadata": {},
     "output_type": "execute_result"
    }
   ],
   "source": [
    "sample_list[2]"
   ]
  },
  {
   "cell_type": "code",
   "execution_count": 27,
   "id": "ac6005cc",
   "metadata": {},
   "outputs": [
    {
     "data": {
      "text/plain": [
       "23"
      ]
     },
     "execution_count": 27,
     "metadata": {},
     "output_type": "execute_result"
    }
   ],
   "source": [
    "sample_list.pop(3)"
   ]
  },
  {
   "cell_type": "code",
   "execution_count": 33,
   "id": "7ceeda13",
   "metadata": {},
   "outputs": [
    {
     "data": {
      "text/plain": [
       "[12, 4.3, 'hellow', 5, 'ring', 'ring', 'ring']"
      ]
     },
     "execution_count": 33,
     "metadata": {},
     "output_type": "execute_result"
    }
   ],
   "source": [
    "sample_list.append(\"ring\")\n",
    "sample_list"
   ]
  },
  {
   "cell_type": "code",
   "execution_count": 35,
   "id": "a797c4c2",
   "metadata": {},
   "outputs": [
    {
     "data": {
      "text/plain": [
       "[12, 4.3, 'hellow', 5, 'ring', 'ring', 'ring', 5, 5]"
      ]
     },
     "execution_count": 35,
     "metadata": {},
     "output_type": "execute_result"
    }
   ],
   "source": [
    "sample_list.append(5)\n",
    "sample_list"
   ]
  },
  {
   "cell_type": "markdown",
   "id": "7c0de1a9",
   "metadata": {},
   "source": [
    "simple_list =[12,4.3,\"Hi\",1-2j]\n",
    "simple_list"
   ]
  },
  {
   "cell_type": "code",
   "execution_count": 38,
   "id": "e0446de9",
   "metadata": {},
   "outputs": [
    {
     "data": {
      "text/plain": [
       "[13, 4.4, 'Hello', (1-3j)]"
      ]
     },
     "execution_count": 38,
     "metadata": {},
     "output_type": "execute_result"
    }
   ],
   "source": [
    "simple_list =[13,4.4,\"Hello\",1-3j]\n",
    "simple_list"
   ]
  },
  {
   "cell_type": "code",
   "execution_count": 49,
   "id": "28b94d32",
   "metadata": {},
   "outputs": [
    {
     "data": {
      "text/plain": [
       "[13, 4.4, 'Hell', 23]"
      ]
     },
     "execution_count": 49,
     "metadata": {},
     "output_type": "execute_result"
    }
   ],
   "source": [
    "simple_list[2]=\"Hell\"\n",
    "simple_list"
   ]
  },
  {
   "cell_type": "code",
   "execution_count": 50,
   "id": "d5c53408",
   "metadata": {},
   "outputs": [
    {
     "data": {
      "text/plain": [
       "[13, 4.4, 'Hell', 23]"
      ]
     },
     "execution_count": 50,
     "metadata": {},
     "output_type": "execute_result"
    }
   ],
   "source": [
    "simple_list[3]=23\n",
    "simple_list"
   ]
  },
  {
   "cell_type": "code",
   "execution_count": 51,
   "id": "d5ba87fe",
   "metadata": {},
   "outputs": [
    {
     "data": {
      "text/plain": [
       "['apple', 'mango', 'graps', 'orange', 'karuna', 'sumit', 'shanu']"
      ]
     },
     "execution_count": 51,
     "metadata": {},
     "output_type": "execute_result"
    }
   ],
   "source": [
    "studentname=[\"apple\",\"mango\",\"graps\",\"orange\",\"karuna\",\"sumit\",\"shanu\"]\n",
    "studentname\n"
   ]
  },
  {
   "cell_type": "code",
   "execution_count": 52,
   "id": "74583098",
   "metadata": {},
   "outputs": [
    {
     "data": {
      "text/plain": [
       "['apple', 'mango', 'graps', 'orange', 'karuna', 'sumit', 'suman']"
      ]
     },
     "execution_count": 52,
     "metadata": {},
     "output_type": "execute_result"
    }
   ],
   "source": [
    "studentname[6]=\"suman\"\n",
    "studentname"
   ]
  },
  {
   "cell_type": "code",
   "execution_count": 55,
   "id": "875d671d",
   "metadata": {},
   "outputs": [
    {
     "data": {
      "text/plain": [
       "['apple', 'graps', 'orange', 'karuna', 'sumit', 'suman']"
      ]
     },
     "execution_count": 55,
     "metadata": {},
     "output_type": "execute_result"
    }
   ],
   "source": [
    "studentname.pop(1)\n",
    "studentname"
   ]
  },
  {
   "cell_type": "code",
   "execution_count": 57,
   "id": "a8f98dfa",
   "metadata": {},
   "outputs": [
    {
     "data": {
      "text/plain": [
       "['p', 'y', 't', 'h', 'o', 'n']"
      ]
     },
     "execution_count": 57,
     "metadata": {},
     "output_type": "execute_result"
    }
   ],
   "source": [
    "list =['p','y','t','h','o','n']\n",
    "list"
   ]
  },
  {
   "cell_type": "markdown",
   "id": "478e4ff6",
   "metadata": {},
   "source": [
    "sample_list[2] = \"hellow\""
   ]
  },
  {
   "cell_type": "code",
   "execution_count": 275,
   "id": "43c1f7cc",
   "metadata": {},
   "outputs": [
    {
     "data": {
      "text/plain": [
       "[2, 3]"
      ]
     },
     "execution_count": 275,
     "metadata": {},
     "output_type": "execute_result"
    }
   ],
   "source": [
    "list[-5:-3]"
   ]
  },
  {
   "cell_type": "code",
   "execution_count": null,
   "id": "f20aacb5",
   "metadata": {},
   "outputs": [],
   "source": [
    "import numpy as np"
   ]
  },
  {
   "cell_type": "code",
   "execution_count": 276,
   "id": "f888d87f",
   "metadata": {},
   "outputs": [
    {
     "data": {
      "text/plain": [
       "['p', 'y', 't', 'h', 'o', 'n']"
      ]
     },
     "execution_count": 276,
     "metadata": {},
     "output_type": "execute_result"
    }
   ],
   "source": [
    "list =['p','y','t','h','o','n']\n",
    "list"
   ]
  },
  {
   "cell_type": "code",
   "execution_count": 278,
   "id": "406d3615",
   "metadata": {},
   "outputs": [
    {
     "data": {
      "text/plain": [
       "['y', 't']"
      ]
     },
     "execution_count": 278,
     "metadata": {},
     "output_type": "execute_result"
    }
   ],
   "source": [
    "list[-5:-3]"
   ]
  },
  {
   "cell_type": "code",
   "execution_count": null,
   "id": "49213b2e",
   "metadata": {},
   "outputs": [],
   "source": []
  },
  {
   "cell_type": "code",
   "execution_count": null,
   "id": "a9d2775e",
   "metadata": {},
   "outputs": [],
   "source": []
  },
  {
   "cell_type": "code",
   "execution_count": 16,
   "id": "ff59c453",
   "metadata": {},
   "outputs": [],
   "source": [
    "sample_list[2] = \"hellow\""
   ]
  },
  {
   "cell_type": "code",
   "execution_count": null,
   "id": "e3b14b00",
   "metadata": {},
   "outputs": [],
   "source": []
  },
  {
   "cell_type": "code",
   "execution_count": 191,
   "id": "65fbbc6c",
   "metadata": {},
   "outputs": [
    {
     "data": {
      "text/plain": [
       "[12, 4.3, 'hi', 23]"
      ]
     },
     "execution_count": 191,
     "metadata": {},
     "output_type": "execute_result"
    }
   ],
   "source": [
    "sample_list =[12,4.3,\"hi\",23]\n",
    "sample_list"
   ]
  },
  {
   "cell_type": "code",
   "execution_count": 201,
   "id": "568878e9",
   "metadata": {},
   "outputs": [
    {
     "data": {
      "text/plain": [
       "[12, 4.3, 'hi']"
      ]
     },
     "execution_count": 201,
     "metadata": {},
     "output_type": "execute_result"
    }
   ],
   "source": [
    "sample_list.pop()\n",
    "sample_list"
   ]
  },
  {
   "cell_type": "code",
   "execution_count": 200,
   "id": "b00764c3",
   "metadata": {},
   "outputs": [
    {
     "name": "stdout",
     "output_type": "stream",
     "text": [
      "Hello World\n"
     ]
    }
   ],
   "source": [
    "print(\"Hello World\")"
   ]
  },
  {
   "cell_type": "code",
   "execution_count": 299,
   "id": "1025f1f8",
   "metadata": {},
   "outputs": [
    {
     "ename": "TypeError",
     "evalue": "Field elements must be 2- or 3-tuples, got '1'",
     "output_type": "error",
     "traceback": [
      "\u001b[1;31m---------------------------------------------------------------------------\u001b[0m",
      "\u001b[1;31mTypeError\u001b[0m                                 Traceback (most recent call last)",
      "Input \u001b[1;32mIn [299]\u001b[0m, in \u001b[0;36m<cell line: 1>\u001b[1;34m()\u001b[0m\n\u001b[1;32m----> 1\u001b[0m arr \u001b[38;5;241m=\u001b[39m\u001b[43mnp\u001b[49m\u001b[38;5;241;43m.\u001b[39;49m\u001b[43marray\u001b[49m\u001b[43m(\u001b[49m\u001b[38;5;124;43m'\u001b[39;49m\u001b[38;5;124;43mi\u001b[39;49m\u001b[38;5;124;43m'\u001b[39;49m\u001b[43m,\u001b[49m\u001b[43m[\u001b[49m\u001b[38;5;241;43m1\u001b[39;49m\u001b[43m,\u001b[49m\u001b[38;5;241;43m2\u001b[39;49m\u001b[43m,\u001b[49m\u001b[38;5;241;43m3\u001b[39;49m\u001b[43m]\u001b[49m\u001b[43m)\u001b[49m\n\u001b[0;32m      2\u001b[0m arr\n",
      "\u001b[1;31mTypeError\u001b[0m: Field elements must be 2- or 3-tuples, got '1'"
     ]
    }
   ],
   "source": [
    "arr =np.array('i',[1,2,3])\n",
    "arr"
   ]
  },
  {
   "cell_type": "code",
   "execution_count": null,
   "id": "db814438",
   "metadata": {},
   "outputs": [],
   "source": [
    "import numpy as np"
   ]
  },
  {
   "cell_type": "code",
   "execution_count": 300,
   "id": "4dfbabf2",
   "metadata": {},
   "outputs": [
    {
     "data": {
      "text/plain": [
       "array([[1, 2, 3],\n",
       "       [4, 5, 6],\n",
       "       [7, 8, 9]])"
      ]
     },
     "execution_count": 300,
     "metadata": {},
     "output_type": "execute_result"
    }
   ],
   "source": [
    "list =([1,2,3],[4,5,6],[7,8,9])\n",
    "np.array(list)"
   ]
  },
  {
   "cell_type": "code",
   "execution_count": 301,
   "id": "660858f1",
   "metadata": {},
   "outputs": [
    {
     "data": {
      "text/plain": [
       "array([15, 18, 21, 24])"
      ]
     },
     "execution_count": 301,
     "metadata": {},
     "output_type": "execute_result"
    }
   ],
   "source": [
    "np.arange(15,27,3)"
   ]
  },
  {
   "cell_type": "code",
   "execution_count": 303,
   "id": "0311d67a",
   "metadata": {},
   "outputs": [
    {
     "data": {
      "text/plain": [
       "array([], dtype=int32)"
      ]
     },
     "execution_count": 303,
     "metadata": {},
     "output_type": "execute_result"
    }
   ],
   "source": [
    "np.arange(27,15,3)"
   ]
  },
  {
   "cell_type": "code",
   "execution_count": 304,
   "id": "adcaff24",
   "metadata": {},
   "outputs": [
    {
     "data": {
      "text/plain": [
       "array([ 0.,  2.,  4.,  6.,  8., 10.])"
      ]
     },
     "execution_count": 304,
     "metadata": {},
     "output_type": "execute_result"
    }
   ],
   "source": [
    "np.linspace(0,10,6)"
   ]
  },
  {
   "cell_type": "code",
   "execution_count": 305,
   "id": "11d29669",
   "metadata": {},
   "outputs": [
    {
     "data": {
      "text/plain": [
       "array([1., 1., 1., 1.])"
      ]
     },
     "execution_count": 305,
     "metadata": {},
     "output_type": "execute_result"
    }
   ],
   "source": [
    "np.ones(4)"
   ]
  },
  {
   "cell_type": "code",
   "execution_count": 315,
   "id": "78ba6cf7",
   "metadata": {},
   "outputs": [
    {
     "data": {
      "text/plain": [
       "[1, 2, 3, 4, 5, 6, 7, 8, 9]"
      ]
     },
     "execution_count": 315,
     "metadata": {},
     "output_type": "execute_result"
    }
   ],
   "source": [
    "np.sample_array =([1,2,3,4,5,6,7,8,9])\n",
    "np.sample_array"
   ]
  },
  {
   "cell_type": "markdown",
   "id": "3ecde11b",
   "metadata": {},
   "source": []
  },
  {
   "cell_type": "code",
   "execution_count": 316,
   "id": "9dcfac5f",
   "metadata": {},
   "outputs": [
    {
     "ename": "ValueError",
     "evalue": "cannot reshape array of size 1 into shape (3,)",
     "output_type": "error",
     "traceback": [
      "\u001b[1;31m---------------------------------------------------------------------------\u001b[0m",
      "\u001b[1;31mValueError\u001b[0m                                Traceback (most recent call last)",
      "Input \u001b[1;32mIn [316]\u001b[0m, in \u001b[0;36m<cell line: 1>\u001b[1;34m()\u001b[0m\n\u001b[1;32m----> 1\u001b[0m sample_array\u001b[38;5;241m=\u001b[39m\u001b[43mnp\u001b[49m\u001b[38;5;241;43m.\u001b[39;49m\u001b[43mreshape\u001b[49m\u001b[43m(\u001b[49m\u001b[38;5;241;43m2\u001b[39;49m\u001b[43m,\u001b[49m\u001b[38;5;241;43m3\u001b[39;49m\u001b[43m)\u001b[49m\n\u001b[0;32m      2\u001b[0m sample_array\n",
      "File \u001b[1;32m<__array_function__ internals>:180\u001b[0m, in \u001b[0;36mreshape\u001b[1;34m(*args, **kwargs)\u001b[0m\n",
      "File \u001b[1;32m~\\AppData\\Roaming\\Python\\Python310\\site-packages\\numpy\\core\\fromnumeric.py:298\u001b[0m, in \u001b[0;36mreshape\u001b[1;34m(a, newshape, order)\u001b[0m\n\u001b[0;32m    198\u001b[0m \u001b[38;5;129m@array_function_dispatch\u001b[39m(_reshape_dispatcher)\n\u001b[0;32m    199\u001b[0m \u001b[38;5;28;01mdef\u001b[39;00m \u001b[38;5;21mreshape\u001b[39m(a, newshape, order\u001b[38;5;241m=\u001b[39m\u001b[38;5;124m'\u001b[39m\u001b[38;5;124mC\u001b[39m\u001b[38;5;124m'\u001b[39m):\n\u001b[0;32m    200\u001b[0m     \u001b[38;5;124;03m\"\"\"\u001b[39;00m\n\u001b[0;32m    201\u001b[0m \u001b[38;5;124;03m    Gives a new shape to an array without changing its data.\u001b[39;00m\n\u001b[0;32m    202\u001b[0m \n\u001b[1;32m   (...)\u001b[0m\n\u001b[0;32m    296\u001b[0m \u001b[38;5;124;03m           [5, 6]])\u001b[39;00m\n\u001b[0;32m    297\u001b[0m \u001b[38;5;124;03m    \"\"\"\u001b[39;00m\n\u001b[1;32m--> 298\u001b[0m     \u001b[38;5;28;01mreturn\u001b[39;00m \u001b[43m_wrapfunc\u001b[49m\u001b[43m(\u001b[49m\u001b[43ma\u001b[49m\u001b[43m,\u001b[49m\u001b[43m \u001b[49m\u001b[38;5;124;43m'\u001b[39;49m\u001b[38;5;124;43mreshape\u001b[39;49m\u001b[38;5;124;43m'\u001b[39;49m\u001b[43m,\u001b[49m\u001b[43m \u001b[49m\u001b[43mnewshape\u001b[49m\u001b[43m,\u001b[49m\u001b[43m \u001b[49m\u001b[43morder\u001b[49m\u001b[38;5;241;43m=\u001b[39;49m\u001b[43morder\u001b[49m\u001b[43m)\u001b[49m\n",
      "File \u001b[1;32m~\\AppData\\Roaming\\Python\\Python310\\site-packages\\numpy\\core\\fromnumeric.py:54\u001b[0m, in \u001b[0;36m_wrapfunc\u001b[1;34m(obj, method, *args, **kwds)\u001b[0m\n\u001b[0;32m     52\u001b[0m bound \u001b[38;5;241m=\u001b[39m \u001b[38;5;28mgetattr\u001b[39m(obj, method, \u001b[38;5;28;01mNone\u001b[39;00m)\n\u001b[0;32m     53\u001b[0m \u001b[38;5;28;01mif\u001b[39;00m bound \u001b[38;5;129;01mis\u001b[39;00m \u001b[38;5;28;01mNone\u001b[39;00m:\n\u001b[1;32m---> 54\u001b[0m     \u001b[38;5;28;01mreturn\u001b[39;00m _wrapit(obj, method, \u001b[38;5;241m*\u001b[39margs, \u001b[38;5;241m*\u001b[39m\u001b[38;5;241m*\u001b[39mkwds)\n\u001b[0;32m     56\u001b[0m \u001b[38;5;28;01mtry\u001b[39;00m:\n\u001b[0;32m     57\u001b[0m     \u001b[38;5;28;01mreturn\u001b[39;00m bound(\u001b[38;5;241m*\u001b[39margs, \u001b[38;5;241m*\u001b[39m\u001b[38;5;241m*\u001b[39mkwds)\n",
      "File \u001b[1;32m~\\AppData\\Roaming\\Python\\Python310\\site-packages\\numpy\\core\\fromnumeric.py:43\u001b[0m, in \u001b[0;36m_wrapit\u001b[1;34m(obj, method, *args, **kwds)\u001b[0m\n\u001b[0;32m     41\u001b[0m \u001b[38;5;28;01mexcept\u001b[39;00m \u001b[38;5;167;01mAttributeError\u001b[39;00m:\n\u001b[0;32m     42\u001b[0m     wrap \u001b[38;5;241m=\u001b[39m \u001b[38;5;28;01mNone\u001b[39;00m\n\u001b[1;32m---> 43\u001b[0m result \u001b[38;5;241m=\u001b[39m \u001b[38;5;28mgetattr\u001b[39m(asarray(obj), method)(\u001b[38;5;241m*\u001b[39margs, \u001b[38;5;241m*\u001b[39m\u001b[38;5;241m*\u001b[39mkwds)\n\u001b[0;32m     44\u001b[0m \u001b[38;5;28;01mif\u001b[39;00m wrap:\n\u001b[0;32m     45\u001b[0m     \u001b[38;5;28;01mif\u001b[39;00m \u001b[38;5;129;01mnot\u001b[39;00m \u001b[38;5;28misinstance\u001b[39m(result, mu\u001b[38;5;241m.\u001b[39mndarray):\n",
      "\u001b[1;31mValueError\u001b[0m: cannot reshape array of size 1 into shape (3,)"
     ]
    }
   ],
   "source": [
    "sample_array=np.reshape(2,3)\n",
    "sample_array"
   ]
  },
  {
   "cell_type": "code",
   "execution_count": null,
   "id": "0cb399b2",
   "metadata": {},
   "outputs": [],
   "source": []
  },
  {
   "cell_type": "code",
   "execution_count": null,
   "id": "4d794ad5",
   "metadata": {},
   "outputs": [],
   "source": []
  },
  {
   "cell_type": "code",
   "execution_count": null,
   "id": "45d1510a",
   "metadata": {},
   "outputs": [],
   "source": []
  },
  {
   "cell_type": "code",
   "execution_count": null,
   "id": "437b1443",
   "metadata": {},
   "outputs": [],
   "source": []
  }
 ],
 "metadata": {
  "kernelspec": {
   "display_name": "Python 3 (ipykernel)",
   "language": "python",
   "name": "python3"
  },
  "language_info": {
   "codemirror_mode": {
    "name": "ipython",
    "version": 3
   },
   "file_extension": ".py",
   "mimetype": "text/x-python",
   "name": "python",
   "nbconvert_exporter": "python",
   "pygments_lexer": "ipython3",
   "version": "3.10.2"
  }
 },
 "nbformat": 4,
 "nbformat_minor": 5
}
